{
 "cells": [
  {
   "cell_type": "code",
   "execution_count": 125,
   "id": "1ca8b175-16b1-48ab-848e-56b784475209",
   "metadata": {
    "scrolled": true
   },
   "outputs": [],
   "source": [
    "import experta"
   ]
  },
  {
   "cell_type": "code",
   "execution_count": 126,
   "id": "68a3e64b-d3b9-4850-9dda-dd40367989e0",
   "metadata": {},
   "outputs": [],
   "source": [
    "import pandas as pd"
   ]
  },
  {
   "cell_type": "code",
   "execution_count": 127,
   "id": "6a6da0e9-8046-4fd2-aec6-cffdaf015674",
   "metadata": {},
   "outputs": [],
   "source": [
    "from experta import KnowledgeEngine,Rule,Fact,P"
   ]
  },
  {
   "cell_type": "code",
   "execution_count": 128,
   "id": "fdc6d495-4b84-4327-94ed-3c7d6dcfe097",
   "metadata": {},
   "outputs": [],
   "source": [
    "df=pd.read_csv(\"cleaned_data1.csv\")"
   ]
  },
  {
   "cell_type": "code",
   "execution_count": 129,
   "id": "10aa2527-a711-4762-97f0-0652f9ecbb29",
   "metadata": {
    "scrolled": true
   },
   "outputs": [
    {
     "data": {
      "text/plain": [
       "age         0\n",
       "sex         0\n",
       "cp          0\n",
       "trestbps    0\n",
       "chol        0\n",
       "fbs         0\n",
       "restecg     0\n",
       "thalach     0\n",
       "exang       0\n",
       "oldpeak     0\n",
       "slope       0\n",
       "ca          0\n",
       "thal        0\n",
       "target      0\n",
       "dtype: int64"
      ]
     },
     "execution_count": 129,
     "metadata": {},
     "output_type": "execute_result"
    }
   ],
   "source": [
    "df.isnull().sum()"
   ]
  },
  {
   "cell_type": "code",
   "execution_count": 130,
   "id": "920aa44f-9484-4840-99c0-ea6caf6d62f0",
   "metadata": {},
   "outputs": [],
   "source": [
    "df.fillna(df.mean(),inplace=True)"
   ]
  },
  {
   "cell_type": "code",
   "execution_count": 131,
   "id": "64ac1eef-4764-44a6-bc45-1318b63985fc",
   "metadata": {},
   "outputs": [],
   "source": [
    "class HeartDiseaseExpert(KnowledgeEngine):\n",
    "    \n",
    "    @Rule(Fact(age=P(lambda x: x > 0.5)) & Fact(chol=P(lambda x: x > 0.5)))\n",
    "    def high_risk_age_chol(self):\n",
    "        print(\"High Risk: Age above median & high cholesterol\")\n",
    "    \n",
    "    @Rule(Fact(trestbps=P(lambda x: x > 0.5)) & Fact(fbs=1))\n",
    "    def high_risk_bp_fbs(self):\n",
    "        print(\"High Risk: High blood pressure & high fasting blood sugar\")\n",
    "    \n",
    "    @Rule(Fact(sex=1) & Fact(age=P(lambda x: x > 0.45)))\n",
    "    def moderate_risk_male(self):\n",
    "        print(\"Moderate Risk: Male above median age\")\n",
    "    \n",
    "    @Rule(Fact(thalach=P(lambda x: x < 0.4)) & Fact(exang=1))\n",
    "    def high_risk_low_hr_exang(self):\n",
    "        print(\"High Risk: Low max heart rate & exercise-induced angina\")\n",
    "    \n",
    "    @Rule(Fact(oldpeak=P(lambda x: x > 0.5)) & Fact(slope=2))\n",
    "    def high_risk_st_depression(self):\n",
    "        print(\"High Risk: ST depression & downward slope\")\n",
    "    \n",
    "    @Rule(Fact(cp=1) & Fact(restecg=1))\n",
    "    def moderate_risk_chestpain_ecg(self):\n",
    "        print(\"Moderate Risk: Chest pain & abnormal resting ECG\")\n",
    "    \n",
    "    @Rule(Fact(ca=P(lambda x: x > 0.2)) & Fact(thal=1))\n",
    "    def high_risk_vessels_thal(self):\n",
    "        print(\"High Risk: Calcified vessels & abnormal thalassemia test\")\n",
    "    \n",
    "    @Rule(Fact(chol=P(lambda x: x < 0.3)) & Fact(thalach=P(lambda x: x > 0.6)))\n",
    "    def low_risk_healthy_chol_hr(self):\n",
    "        print(\"Low Risk: Healthy cholesterol & high max heart rate\")\n",
    "    \n",
    "    @Rule(Fact(cp=3) & Fact(thalach=P(lambda x: x > 0.5)))\n",
    "    def low_risk_angina_high_hr(self):\n",
    "        print(\"Low Risk: Atypical angina & high max heart rate\")\n",
    "    \n",
    "    @Rule(Fact(fbs=1) & Fact(oldpeak=P(lambda x: x > 0.4)) & Fact(slope=1))\n",
    "    def high_risk_diabetes_st_depression(self):\n",
    "        print(\"High Risk: High blood sugar, ST depression & flat slope\")\n",
    "    \n",
    "    @Rule(Fact(target=1))\n",
    "    def diagnosed_with_heart_disease(self):\n",
    "        print(\"Diagnosis: The patient has heart disease.\")\n",
    "    \n",
    "    @Rule(Fact(target=0))\n",
    "    def no_heart_disease(self):\n",
    "        print(\"Diagnosis: The patient does NOT have heart disease.\")\n",
    "\n"
   ]
  },
  {
   "cell_type": "code",
   "execution_count": 132,
   "id": "e30e2df1-1148-472e-aec5-4da4000f37a8",
   "metadata": {},
   "outputs": [],
   "source": [
    "engine=HeartDiseaseExpert()\n",
    "engine.reset()"
   ]
  },
  {
   "cell_type": "code",
   "execution_count": 133,
   "id": "045616b1-6b80-4e63-bca7-2a077167bdf0",
   "metadata": {},
   "outputs": [],
   "source": [
    "patient = {\n",
    "    \"age\": 0.6,\n",
    "    \"sex\": 1,\n",
    "    \"cp\": 0,\n",
    "    \"trestbps\": 0.6,\n",
    "    \"chol\": 0.55,\n",
    "    \"fbs\": 0,\n",
    "    \"restecg\": 1,\n",
    "    \"thalach\": 0.3,\n",
    "    \"exang\": 1,\n",
    "    \"oldpeak\": 0.6,\n",
    "    \"slope\": 2,\n",
    "    \"ca\": 0.3,\n",
    "    \"thal\": 1,\n",
    "    \"target\": 1\n",
    "}"
   ]
  },
  {
   "cell_type": "code",
   "execution_count": 134,
   "id": "de8f0b47-fddf-46a4-9349-c4e92fc93e3d",
   "metadata": {},
   "outputs": [
    {
     "name": "stdout",
     "output_type": "stream",
     "text": [
      "Diagnosis: The patient has heart disease.\n",
      "High Risk: Calcified vessels & abnormal thalassemia test\n",
      "High Risk: ST depression & downward slope\n",
      "High Risk: Low max heart rate & exercise-induced angina\n",
      "High Risk: Age above median & high cholesterol\n",
      "Moderate Risk: Male above median age\n"
     ]
    }
   ],
   "source": [
    "for key, value in patient.items():\n",
    "    engine.declare(Fact(**{key: value}))\n",
    "\n",
    "engine.run()"
   ]
  },
  {
   "cell_type": "code",
   "execution_count": null,
   "id": "2099f986-3c4b-48a0-a8b5-3a4fb6e6c817",
   "metadata": {},
   "outputs": [],
   "source": []
  },
  {
   "cell_type": "code",
   "execution_count": null,
   "id": "2cfa8b9d-9b11-4331-a077-2e2e3ba98f3b",
   "metadata": {},
   "outputs": [],
   "source": []
  }
 ],
 "metadata": {
  "kernelspec": {
   "display_name": "Python 3 (ipykernel)",
   "language": "python",
   "name": "python3"
  },
  "language_info": {
   "codemirror_mode": {
    "name": "ipython",
    "version": 3
   },
   "file_extension": ".py",
   "mimetype": "text/x-python",
   "name": "python",
   "nbconvert_exporter": "python",
   "pygments_lexer": "ipython3",
   "version": "3.13.2"
  }
 },
 "nbformat": 4,
 "nbformat_minor": 5
}
